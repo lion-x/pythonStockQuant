{
 "cells": [
  {
   "cell_type": "markdown",
   "metadata": {
    "collapsed": true
   },
   "source": [
    "## 3.1 初始N维数组对象\n"
   ]
  },
  {
   "cell_type": "code",
   "execution_count": 5,
   "metadata": {},
   "outputs": [
    {
     "name": "stdout",
     "output_type": "stream",
     "text": [
      "1.19.2\n"
     ]
    }
   ],
   "source": [
    "import numpy as np\n",
    "print(np.__version__)"
   ]
  },
  {
   "cell_type": "markdown",
   "metadata": {},
   "source": [
    "### 示例 3.1"
   ]
  },
  {
   "cell_type": "code",
   "execution_count": 7,
   "metadata": {},
   "outputs": [
    {
     "name": "stdout",
     "output_type": "stream",
     "text": [
      "[1. 2. 3. 4. 5. 6.]\n",
      "1\n",
      "(6,)\n",
      "float64\n"
     ]
    }
   ],
   "source": [
    "array_1x6 = np.array([1.0, 2.0, 3.0, 4.0, 5.0, 6.0], dtype=np.float64)\n",
    "print(array_1x6)\n",
    "print(array_1x6.ndim)\n",
    "print(array_1x6.shape)\n",
    "print(array_1x6.dtype)"
   ]
  },
  {
   "cell_type": "markdown",
   "metadata": {},
   "source": [
    "### 示例 3.2"
   ]
  },
  {
   "cell_type": "code",
   "execution_count": 8,
   "metadata": {},
   "outputs": [
    {
     "name": "stdout",
     "output_type": "stream",
     "text": [
      "[[1.  2.  3.  4.  5.  6. ]\n",
      " [1.1 2.1 3.1 4.1 5.1 6.1]]\n",
      "2\n",
      "(2, 6)\n",
      "float64\n"
     ]
    }
   ],
   "source": [
    "array_2x6 = np.array([[1.0, 2.0, 3.0, 4.0, 5.0, 6.0], [1.1, 2.1, 3.1, 4.1, 5.1, 6.1]])\n",
    "print(array_2x6)\n",
    "print(array_2x6.ndim)\n",
    "print(array_2x6.shape)\n",
    "print(array_2x6.dtype)"
   ]
  },
  {
   "cell_type": "markdown",
   "metadata": {},
   "source": [
    "### 示例 3.3"
   ]
  },
  {
   "cell_type": "code",
   "execution_count": 9,
   "metadata": {},
   "outputs": [
    {
     "name": "stdout",
     "output_type": "stream",
     "text": [
      "[[[ 1.   2.   3.   4.   5.   6. ]\n",
      "  [ 1.1  2.1  3.1  4.1  5.1  6.1]\n",
      "  [ 1.2  2.2  3.2  4.2  5.2  6.2]]\n",
      "\n",
      " [[ 7.   8.   9.  10.  11.  12. ]\n",
      "  [ 7.1  8.1  9.1 10.1 11.1 12.1]\n",
      "  [ 7.2  8.2  9.2 10.2 11.2 12.2]]]\n",
      "3\n",
      "(2, 3, 6)\n",
      "float64\n"
     ]
    }
   ],
   "source": [
    "array_2x3x6 = np.array([[[1.0, 2.0, 3.0, 4.0, 5.0, 6.0],[1.1, 2.1, 3.1, 4.1, 5.1, 6.1],[1.2, 2.2, 3.2, 4.2, 5.2, 6.2]],\n",
    "                        [[7.0, 8.0, 9.0, 10.0, 11.0, 12.0],[7.1, 8.1, 9.1, 10.1, 11.1, 12.1],[7.2, 8.2, 9.2, 10.2, 11.2, 12.2]]])\n",
    "print(array_2x3x6)\n",
    "print(array_2x3x6.ndim)\n",
    "print(array_2x3x6.shape)\n",
    "print(array_2x3x6.dtype)"
   ]
  },
  {
   "cell_type": "code",
   "execution_count": null,
   "metadata": {},
   "outputs": [],
   "source": []
  }
 ],
 "metadata": {
  "kernelspec": {
   "display_name": "Python 3",
   "language": "python",
   "name": "python3"
  },
  "language_info": {
   "codemirror_mode": {
    "name": "ipython",
    "version": 3
   },
   "file_extension": ".py",
   "mimetype": "text/x-python",
   "name": "python",
   "nbconvert_exporter": "python",
   "pygments_lexer": "ipython3",
   "version": "3.8.2"
  }
 },
 "nbformat": 4,
 "nbformat_minor": 1
}