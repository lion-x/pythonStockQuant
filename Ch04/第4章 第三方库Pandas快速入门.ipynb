{
 "cells": [
  {
   "cell_type": "markdown",
   "id": "pretty-automation",
   "metadata": {},
   "source": [
    "## 4.4 时间序列的生成和转换"
   ]
  },
  {
   "cell_type": "code",
   "execution_count": 3,
   "id": "former-vintage",
   "metadata": {},
   "outputs": [],
   "source": [
    "from datetime import date, time, datetime, timedelta"
   ]
  },
  {
   "cell_type": "markdown",
   "id": "pointed-columbia",
   "metadata": {},
   "source": [
    "### 4.4.1 用datetime生成时间序列"
   ]
  },
  {
   "cell_type": "markdown",
   "id": "understanding-binding",
   "metadata": {},
   "source": [
    "#### 示例 4.37"
   ]
  },
  {
   "cell_type": "code",
   "execution_count": 4,
   "id": "enclosed-preparation",
   "metadata": {},
   "outputs": [
    {
     "name": "stdout",
     "output_type": "stream",
     "text": [
      "datetime: 2016-10-26 10:23:15.000001\n"
     ]
    }
   ],
   "source": [
    "datetime_obj = datetime(2016, 10, 26, 10, 23, 15, 1)\n",
    "print(f'datetime: {datetime_obj}')\n"
   ]
  },
  {
   "cell_type": "markdown",
   "id": "fundamental-membership",
   "metadata": {},
   "source": [
    "#### 示例4.38"
   ]
  },
  {
   "cell_type": "code",
   "execution_count": 9,
   "id": "nasty-resistance",
   "metadata": {},
   "outputs": [
    {
     "name": "stdout",
     "output_type": "stream",
     "text": [
      "datetime: 2016-10-27 20:23:15.000001\n",
      "datetime.isoformat(): 2016-10-26T10:23:15.000001\n",
      "datetime.strftime(): 2016-10-26 10:23:15\n"
     ]
    }
   ],
   "source": [
    "re_datetime_obj = datetime_obj.replace(day=27, hour=20)\n",
    "print(f'datetime: {re_datetime_obj}')\n",
    "print(f'datetime.isoformat(): {datetime_obj.isoformat()}')\n",
    "print(f'datetime.strftime(): {datetime_obj.strftime(\"%Y-%m-%d %X\")}')"
   ]
  },
  {
   "cell_type": "markdown",
   "id": "intense-performance",
   "metadata": {},
   "source": [
    "#### 示例 4.39"
   ]
  },
  {
   "cell_type": "code",
   "execution_count": 14,
   "id": "pointed-tampa",
   "metadata": {},
   "outputs": [
    {
     "name": "stdout",
     "output_type": "stream",
     "text": [
      "datetime.strptime(): 2016-10-26 00:00:00\n",
      "fromtimestamp(): 2015-04-19 12:20:00\n",
      "utcfromtimestamp(): 2015-04-19 04:20:00\n",
      "datetime.now(): 2021-02-14 19:19:58.573943\n"
     ]
    }
   ],
   "source": [
    "print(f'datetime.strptime(): {datetime.strptime(\"2016-10-26\", \"%Y-%m-%d\")}')\n",
    "print(f'fromtimestamp(): {datetime.fromtimestamp(1429417200.0)}')\n",
    "print(f'utcfromtimestamp(): {datetime.utcfromtimestamp(1429417200.0)}')\n",
    "print(f'datetime.now(): {datetime.now()}')"
   ]
  },
  {
   "cell_type": "markdown",
   "id": "thorough-series",
   "metadata": {},
   "source": [
    "#### 示例 4.40"
   ]
  },
  {
   "cell_type": "code",
   "execution_count": 15,
   "id": "intense-stocks",
   "metadata": {},
   "outputs": [
    {
     "name": "stdout",
     "output_type": "stream",
     "text": [
      "<class 'datetime.timedelta'> 17 days, 0:00:00\n",
      "17 1468800.0\n"
     ]
    }
   ],
   "source": [
    "delta_obj = datetime.strptime(\"2019-10-18 04:20:00\", \"%Y-%m-%d %X\")- datetime.strptime(\"2019-10-01 04:20:00\", \"%Y-%m-%d %X\")\n",
    "print(type(delta_obj), delta_obj)\n",
    "print(delta_obj.days, delta_obj.total_seconds())"
   ]
  },
  {
   "cell_type": "markdown",
   "id": "suburban-guatemala",
   "metadata": {},
   "source": [
    "#### 示例 4.41"
   ]
  },
  {
   "cell_type": "code",
   "execution_count": 16,
   "id": "entire-diagnosis",
   "metadata": {},
   "outputs": [
    {
     "name": "stdout",
     "output_type": "stream",
     "text": [
      "2021-02-15 20:26:30.929519\n",
      "2021-02-13 19:26:30.929519\n",
      "2021-02-13 19:26:30.929519\n"
     ]
    }
   ],
   "source": [
    "dt = datetime.now()\n",
    "dt1 = dt + timedelta(days=1, hours=1)\n",
    "dt2 = dt + timedelta(days=-1)\n",
    "dt3 = dt - timedelta(days=1)\n",
    "print(dt1)\n",
    "print(dt2)\n",
    "print(dt3)"
   ]
  },
  {
   "cell_type": "markdown",
   "id": "needed-novel",
   "metadata": {},
   "source": [
    "### 4.4.2 用Pandas生成时间序列"
   ]
  },
  {
   "cell_type": "code",
   "execution_count": 19,
   "id": "dietary-blair",
   "metadata": {},
   "outputs": [],
   "source": [
    "import pandas as pd"
   ]
  },
  {
   "cell_type": "markdown",
   "id": "departmental-newark",
   "metadata": {},
   "source": [
    "#### 1. 基础元素 Timestamp"
   ]
  },
  {
   "cell_type": "markdown",
   "id": "hollywood-safety",
   "metadata": {},
   "source": [
    "#### 示例 4.42"
   ]
  },
  {
   "cell_type": "code",
   "execution_count": 22,
   "id": "herbal-winner",
   "metadata": {},
   "outputs": [
    {
     "name": "stdout",
     "output_type": "stream",
     "text": [
      "pd.Timestamp()-1: 2019-01-01 02:03:04\n",
      "pd.Timestamp()-2: 2019-01-01 02:03:04\n",
      "pd.Timestamp()-3: 2019-01-01 02:03:04\n",
      "pd.Timestamp()-type: <class 'pandas._libs.tslibs.timestamps.Timestamp'>\n"
     ]
    }
   ],
   "source": [
    "ts = pd.Timestamp(2019, 1, 1, 2, 3, 4)\n",
    "print(f'pd.Timestamp()-1: {ts}')\n",
    "ts = pd.Timestamp(datetime(2019, 1, 1, hour=2, minute=3, second=4))\n",
    "print(f'pd.Timestamp()-2: {ts}')\n",
    "ts = pd.Timestamp(\"2019-1-1 2:3:4\")\n",
    "print(f'pd.Timestamp()-3: {ts}')\n",
    "print(f'pd.Timestamp()-type: {type(ts)}')"
   ]
  },
  {
   "cell_type": "markdown",
   "id": "experimental-aerospace",
   "metadata": {},
   "source": [
    "#### 2. 时间偏移 Timedelta"
   ]
  },
  {
   "cell_type": "markdown",
   "id": "patent-hanging",
   "metadata": {},
   "source": [
    "#### 示例 4.45"
   ]
  },
  {
   "cell_type": "code",
   "execution_count": 23,
   "id": "first-technique",
   "metadata": {},
   "outputs": [
    {
     "name": "stdout",
     "output_type": "stream",
     "text": [
      "datetime-1:2019-01-01 00:00:00\n",
      "datetime-2:2019-01-06 00:50:20\n"
     ]
    }
   ],
   "source": [
    "dt_0 = pd.to_datetime(datetime(2019, 1, 1, hour=0, minute=0, second=0))\n",
    "dt_1 = dt_0 + pd.Timedelta(days=5, minutes=50, seconds=20)\n",
    "print(f'datetime-1:{dt_0}\\ndatetime-2:{dt_1}')\n"
   ]
  },
  {
   "cell_type": "markdown",
   "id": "polyphonic-attraction",
   "metadata": {},
   "source": [
    "#### 3.生成时间范围序列"
   ]
  },
  {
   "cell_type": "markdown",
   "id": "maritime-diagnosis",
   "metadata": {},
   "source": [
    "#### 示例 4.46"
   ]
  },
  {
   "cell_type": "code",
   "execution_count": 24,
   "id": "filled-museum",
   "metadata": {},
   "outputs": [
    {
     "name": "stdout",
     "output_type": "stream",
     "text": [
      "month date_range():\n",
      "DatetimeIndex(['2019-01-31', '2019-02-28', '2019-03-31', '2019-04-30',\n",
      "               '2019-05-31', '2019-06-30', '2019-07-31', '2019-08-31',\n",
      "               '2019-09-30', '2019-10-31', '2019-11-30', '2019-12-31'],\n",
      "              dtype='datetime64[ns]', freq='M')\n",
      "month period_range():\n",
      "PeriodIndex(['2019-01', '2019-02', '2019-03', '2019-04', '2019-05', '2019-06',\n",
      "             '2019-07', '2019-08', '2019-09', '2019-10', '2019-11', '2019-12'],\n",
      "            dtype='period[M]', freq='M')\n"
     ]
    }
   ],
   "source": [
    "date_rng = pd.date_range('2019-01-01', freq='M', periods=12)\n",
    "print(f'month date_range():\\n{date_rng}')\n",
    "\n",
    "period_rng = pd.period_range('2019-01-01', freq='M', periods=12)\n",
    "print(f'month period_range():\\n{period_rng}')"
   ]
  },
  {
   "cell_type": "markdown",
   "id": "pleased-mandate",
   "metadata": {},
   "source": [
    "#### 4.4.3 时间序列的降采样"
   ]
  },
  {
   "cell_type": "markdown",
   "id": "computational-ordinary",
   "metadata": {},
   "source": [
    "#### 示例 4.49"
   ]
  },
  {
   "cell_type": "code",
   "execution_count": 25,
   "id": "provincial-patrick",
   "metadata": {},
   "outputs": [],
   "source": [
    "import numpy as np"
   ]
  },
  {
   "cell_type": "code",
   "execution_count": 26,
   "id": "twenty-sodium",
   "metadata": {},
   "outputs": [
    {
     "name": "stdout",
     "output_type": "stream",
     "text": [
      "2019-01-01     1\n",
      "2019-01-02     2\n",
      "2019-01-03     3\n",
      "2019-01-04     4\n",
      "2019-01-05     5\n",
      "2019-01-06     6\n",
      "2019-01-07     7\n",
      "2019-01-08     8\n",
      "2019-01-09     9\n",
      "2019-01-10    10\n",
      "2019-01-11    11\n",
      "2019-01-12    12\n",
      "Freq: D, dtype: int64\n"
     ]
    }
   ],
   "source": [
    "rng = pd.date_range('20190101', freq='D', periods=12)\n",
    "ts_d = pd.Series(np.arange(1, 13), index=rng)\n",
    "print(ts_d)"
   ]
  },
  {
   "cell_type": "code",
   "execution_count": 28,
   "id": "dense-sender",
   "metadata": {},
   "outputs": [
    {
     "name": "stdout",
     "output_type": "stream",
     "text": [
      "2019-01-01    15\n",
      "2019-01-06    40\n",
      "2019-01-11    23\n",
      "Freq: 5D, dtype: int64\n",
      "2019-01-01     1\n",
      "2019-01-06    20\n",
      "2019-01-11    45\n",
      "2019-01-16    12\n",
      "Freq: 5D, dtype: int64\n"
     ]
    }
   ],
   "source": [
    "print(ts_d.resample('5D', closed='left', label='left').sum())\n",
    "print(ts_d.resample('5D', closed='right', label='right').sum())"
   ]
  },
  {
   "cell_type": "markdown",
   "id": "collected-synthetic",
   "metadata": {},
   "source": [
    "#### 4.4.4 时间序列的升采样"
   ]
  },
  {
   "cell_type": "markdown",
   "id": "outer-mambo",
   "metadata": {},
   "source": [
    "#### 示例 4.50"
   ]
  },
  {
   "cell_type": "code",
   "execution_count": 30,
   "id": "respected-stockholm",
   "metadata": {},
   "outputs": [
    {
     "name": "stdout",
     "output_type": "stream",
     "text": [
      "2019-01-01 00:00:00     1.0\n",
      "2019-01-01 12:00:00     NaN\n",
      "2019-01-02 00:00:00     2.0\n",
      "2019-01-02 12:00:00     NaN\n",
      "2019-01-03 00:00:00     3.0\n",
      "2019-01-03 12:00:00     NaN\n",
      "2019-01-04 00:00:00     4.0\n",
      "2019-01-04 12:00:00     NaN\n",
      "2019-01-05 00:00:00     5.0\n",
      "2019-01-05 12:00:00     NaN\n",
      "2019-01-06 00:00:00     6.0\n",
      "2019-01-06 12:00:00     NaN\n",
      "2019-01-07 00:00:00     7.0\n",
      "2019-01-07 12:00:00     NaN\n",
      "2019-01-08 00:00:00     8.0\n",
      "2019-01-08 12:00:00     NaN\n",
      "2019-01-09 00:00:00     9.0\n",
      "2019-01-09 12:00:00     NaN\n",
      "2019-01-10 00:00:00    10.0\n",
      "2019-01-10 12:00:00     NaN\n",
      "2019-01-11 00:00:00    11.0\n",
      "2019-01-11 12:00:00     NaN\n",
      "2019-01-12 00:00:00    12.0\n",
      "Freq: 12H, dtype: float64\n",
      "2019-01-01 00:00:00     1\n",
      "2019-01-01 12:00:00     1\n",
      "2019-01-02 00:00:00     2\n",
      "2019-01-02 12:00:00     2\n",
      "2019-01-03 00:00:00     3\n",
      "2019-01-03 12:00:00     3\n",
      "2019-01-04 00:00:00     4\n",
      "2019-01-04 12:00:00     4\n",
      "2019-01-05 00:00:00     5\n",
      "2019-01-05 12:00:00     5\n",
      "2019-01-06 00:00:00     6\n",
      "2019-01-06 12:00:00     6\n",
      "2019-01-07 00:00:00     7\n",
      "2019-01-07 12:00:00     7\n",
      "2019-01-08 00:00:00     8\n",
      "2019-01-08 12:00:00     8\n",
      "2019-01-09 00:00:00     9\n",
      "2019-01-09 12:00:00     9\n",
      "2019-01-10 00:00:00    10\n",
      "2019-01-10 12:00:00    10\n",
      "2019-01-11 00:00:00    11\n",
      "2019-01-11 12:00:00    11\n",
      "2019-01-12 00:00:00    12\n",
      "Freq: 12H, dtype: int64\n",
      "2019-01-01 00:00:00     1\n",
      "2019-01-01 12:00:00     2\n",
      "2019-01-02 00:00:00     2\n",
      "2019-01-02 12:00:00     3\n",
      "2019-01-03 00:00:00     3\n",
      "2019-01-03 12:00:00     4\n",
      "2019-01-04 00:00:00     4\n",
      "2019-01-04 12:00:00     5\n",
      "2019-01-05 00:00:00     5\n",
      "2019-01-05 12:00:00     6\n",
      "2019-01-06 00:00:00     6\n",
      "2019-01-06 12:00:00     7\n",
      "2019-01-07 00:00:00     7\n",
      "2019-01-07 12:00:00     8\n",
      "2019-01-08 00:00:00     8\n",
      "2019-01-08 12:00:00     9\n",
      "2019-01-09 00:00:00     9\n",
      "2019-01-09 12:00:00    10\n",
      "2019-01-10 00:00:00    10\n",
      "2019-01-10 12:00:00    11\n",
      "2019-01-11 00:00:00    11\n",
      "2019-01-11 12:00:00    12\n",
      "2019-01-12 00:00:00    12\n",
      "Freq: 12H, dtype: int64\n"
     ]
    }
   ],
   "source": [
    "ts_12h_asfred = ts_d.resample('12H').asfreq()\n",
    "print(ts_12h_asfred)\n",
    "ts_12h_ffill = ts_d.resample('12H').ffill()\n",
    "print(ts_12h_ffill)\n",
    "ts_12h_bfill = ts_d.resample('12H').bfill()\n",
    "print(ts_12h_bfill)"
   ]
  },
  {
   "cell_type": "markdown",
   "id": "durable-estonia",
   "metadata": {},
   "source": [
    "#### 示例 4.51"
   ]
  },
  {
   "cell_type": "code",
   "execution_count": 31,
   "id": "distributed-experience",
   "metadata": {},
   "outputs": [
    {
     "name": "stdout",
     "output_type": "stream",
     "text": [
      "2019-01-01 09:30:00     1.0\n",
      "2019-01-01 15:30:00     1.0\n",
      "2019-01-01 21:30:00     NaN\n",
      "2019-01-02 03:30:00     NaN\n",
      "2019-01-02 09:30:00     2.0\n",
      "2019-01-02 15:30:00     2.0\n",
      "2019-01-02 21:30:00     NaN\n",
      "2019-01-03 03:30:00     NaN\n",
      "2019-01-03 09:30:00     3.0\n",
      "2019-01-03 15:30:00     3.0\n",
      "2019-01-03 21:30:00     NaN\n",
      "2019-01-04 03:30:00     NaN\n",
      "2019-01-04 09:30:00     4.0\n",
      "2019-01-04 15:30:00     4.0\n",
      "2019-01-04 21:30:00     NaN\n",
      "2019-01-05 03:30:00     NaN\n",
      "2019-01-05 09:30:00     5.0\n",
      "2019-01-05 15:30:00     5.0\n",
      "2019-01-05 21:30:00     NaN\n",
      "2019-01-06 03:30:00     NaN\n",
      "2019-01-06 09:30:00     6.0\n",
      "2019-01-06 15:30:00     6.0\n",
      "2019-01-06 21:30:00     NaN\n",
      "2019-01-07 03:30:00     NaN\n",
      "2019-01-07 09:30:00     7.0\n",
      "2019-01-07 15:30:00     7.0\n",
      "2019-01-07 21:30:00     NaN\n",
      "2019-01-08 03:30:00     NaN\n",
      "2019-01-08 09:30:00     8.0\n",
      "2019-01-08 15:30:00     8.0\n",
      "2019-01-08 21:30:00     NaN\n",
      "2019-01-09 03:30:00     NaN\n",
      "2019-01-09 09:30:00     9.0\n",
      "2019-01-09 15:30:00     9.0\n",
      "2019-01-09 21:30:00     NaN\n",
      "2019-01-10 03:30:00     NaN\n",
      "2019-01-10 09:30:00    10.0\n",
      "2019-01-10 15:30:00    10.0\n",
      "2019-01-10 21:30:00     NaN\n",
      "2019-01-11 03:30:00     NaN\n",
      "2019-01-11 09:30:00    11.0\n",
      "2019-01-11 15:30:00    11.0\n",
      "2019-01-11 21:30:00     NaN\n",
      "2019-01-12 03:30:00     NaN\n",
      "2019-01-12 09:30:00    12.0\n",
      "Freq: 6H, dtype: float64\n"
     ]
    },
    {
     "name": "stderr",
     "output_type": "stream",
     "text": [
      "<ipython-input-31-fd47614918bd>:1: FutureWarning: 'loffset' in .resample() and in Grouper() is deprecated.\n",
      "\n",
      ">>> df.resample(freq=\"3s\", loffset=\"8H\")\n",
      "\n",
      "becomes:\n",
      "\n",
      ">>> from pandas.tseries.frequencies import to_offset\n",
      ">>> df = df.resample(freq=\"3s\").mean()\n",
      ">>> df.index = df.index.to_timestamp() + to_offset(\"8H\")\n",
      "\n",
      "  ts_offset_ffill = ts_d.resample('6H', loffset='9.5H').ffill(limit=1)\n"
     ]
    }
   ],
   "source": [
    "ts_offset_ffill = ts_d.resample('6H', loffset='9.5H').ffill(limit=1)\n",
    "print(ts_offset_ffill)"
   ]
  },
  {
   "cell_type": "markdown",
   "id": "personalized-craft",
   "metadata": {},
   "source": [
    "## 4.5 DataFrame的规整化处理"
   ]
  },
  {
   "cell_type": "markdown",
   "id": "grand-compromise",
   "metadata": {},
   "source": [
    "### 4.5.1 模拟生成股票行情数据"
   ]
  },
  {
   "cell_type": "markdown",
   "id": "determined-regard",
   "metadata": {},
   "source": [
    "#### 1. 生成data参数"
   ]
  },
  {
   "cell_type": "code",
   "execution_count": 37,
   "id": "ranging-devices",
   "metadata": {},
   "outputs": [
    {
     "name": "stdout",
     "output_type": "stream",
     "text": [
      "close_date:\n",
      " [10.97793879 10.14256162 10.33566743 10.14317636 10.78481633 10.60717612\n",
      "  9.39657149  9.82353664  9.93069536  8.49934302]\n",
      "close_data[999]:\n",
      " 10.523829271591797\n"
     ]
    }
   ],
   "source": [
    "close_data = np.random.normal(loc=10.0, scale=1.0, size=1000)\n",
    "print(f'close_date:\\n {format(close_data[0:10])}')\n",
    "print(f'close_data[999]:\\n {format(close_data[999])}')"
   ]
  },
  {
   "cell_type": "code",
   "execution_count": 38,
   "id": "changing-choir",
   "metadata": {},
   "outputs": [
    {
     "name": "stdout",
     "output_type": "stream",
     "text": [
      "open_data:\n",
      " [10.52382927 10.97793879 10.14256162 10.33566743 10.14317636 10.78481633\n",
      " 10.60717612  9.39657149  9.82353664  9.93069536]\n"
     ]
    }
   ],
   "source": [
    "open_data = np.roll(close_data, 1)\n",
    "print(f\"open_data:\\n {format(open_data[0:10])}\")"
   ]
  },
  {
   "cell_type": "code",
   "execution_count": 39,
   "id": "bibliographic-fetish",
   "metadata": {},
   "outputs": [
    {
     "name": "stdout",
     "output_type": "stream",
     "text": [
      "high_data:\n",
      " [10.97793879 10.97793879 10.33566743 10.33566743 10.78481633 10.78481633\n",
      " 10.60717612  9.82353664  9.93069536  9.93069536]\n",
      "low_data:\n",
      " [10.52382927 10.14256162 10.14256162 10.14317636 10.14317636 10.60717612\n",
      "  9.39657149  9.39657149  9.82353664  8.49934302]\n"
     ]
    }
   ],
   "source": [
    "high_data = np.where((open_data > close_data), open_data, close_data)\n",
    "print(f'high_data:\\n {format(high_data[0:10])}')\n",
    "\n",
    "low_data = np.where((open_data <= close_data), open_data, close_data)\n",
    "print(f'low_data:\\n {format(low_data[0:10])}')"
   ]
  },
  {
   "cell_type": "code",
   "execution_count": 40,
   "id": "western-archive",
   "metadata": {},
   "outputs": [],
   "source": [
    "open_data[0] = np.nan\n",
    "close_data[0] = np.nan\n",
    "high_data[0] = np.nan\n",
    "low_data[0] = np.nan"
   ]
  },
  {
   "cell_type": "markdown",
   "id": "organized-reduction",
   "metadata": {},
   "source": [
    "#### 2. 生成index参数"
   ]
  },
  {
   "cell_type": "code",
   "execution_count": 42,
   "id": "introductory-verse",
   "metadata": {},
   "outputs": [
    {
     "name": "stdout",
     "output_type": "stream",
     "text": [
      "生成日时间序列：\n",
      "DatetimeIndex(['2010-01-01', '2010-01-02', '2010-01-03', '2010-01-04',\n",
      "               '2010-01-05', '2010-01-06', '2010-01-07', '2010-01-08',\n",
      "               '2010-01-09', '2010-01-10',\n",
      "               ...\n",
      "               '2012-09-17', '2012-09-18', '2012-09-19', '2012-09-20',\n",
      "               '2012-09-21', '2012-09-22', '2012-09-23', '2012-09-24',\n",
      "               '2012-09-25', '2012-09-26'],\n",
      "              dtype='datetime64[ns]', length=1000, freq='D')\n"
     ]
    }
   ],
   "source": [
    "date_index = pd.date_range('2010-01-01', freq='D', periods=1000)\n",
    "print(f'生成日时间序列：\\n{date_index}')\n"
   ]
  },
  {
   "cell_type": "markdown",
   "id": "moral-traveler",
   "metadata": {},
   "source": [
    "#### 3. 生成columns参数"
   ]
  },
  {
   "cell_type": "markdown",
   "id": "consistent-decimal",
   "metadata": {},
   "source": [
    "#### 4. 创建DataFrame数据"
   ]
  },
  {
   "cell_type": "code",
   "execution_count": 45,
   "id": "substantial-messenger",
   "metadata": {},
   "outputs": [
    {
     "name": "stdout",
     "output_type": "stream",
     "text": [
      "股价行情数据:\n",
      "                 close       open       high        low\n",
      "2010-01-01        NaN        NaN        NaN        NaN\n",
      "2010-01-02  10.142562  10.977939  10.977939  10.142562\n",
      "2010-01-03  10.335667  10.142562  10.335667  10.142562\n",
      "2010-01-04  10.143176  10.335667  10.335667  10.143176\n",
      "2010-01-05  10.784816  10.143176  10.784816  10.143176\n"
     ]
    }
   ],
   "source": [
    "df_stock = pd.DataFrame({'close':close_data, 'open':open_data, 'high':high_data, 'low':low_data}, index=date_index)\n",
    "print(f'股价行情数据:\\n {df_stock.head()}')\n"
   ]
  },
  {
   "cell_type": "code",
   "execution_count": 67,
   "id": "damaged-effect",
   "metadata": {},
   "outputs": [
    {
     "name": "stdout",
     "output_type": "stream",
     "text": [
      "成交量数据:\n",
      "             volume\n",
      "2010-01-01  119893\n",
      "2010-01-02  136141\n",
      "2010-01-03  138795\n",
      "2010-01-04  140840\n",
      "2010-01-05  145148\n"
     ]
    }
   ],
   "source": [
    "volume_data = np.random.randint(100000, 200000, 1000)\n",
    "df_volume = pd.DataFrame({'volume': volume_data}, index=date_index)\n",
    "print(f'成交量数据:\\n {df_volume.head()}')"
   ]
  },
  {
   "cell_type": "markdown",
   "id": "excessive-skill",
   "metadata": {},
   "source": [
    "### 4.5.2 DataFrame概览"
   ]
  },
  {
   "cell_type": "markdown",
   "id": "right-airplane",
   "metadata": {},
   "source": [
    "#### 示例 4.5.2-4.56"
   ]
  },
  {
   "cell_type": "code",
   "execution_count": 68,
   "id": "passing-california",
   "metadata": {},
   "outputs": [
    {
     "data": {
      "text/html": [
       "<div>\n",
       "<style scoped>\n",
       "    .dataframe tbody tr th:only-of-type {\n",
       "        vertical-align: middle;\n",
       "    }\n",
       "\n",
       "    .dataframe tbody tr th {\n",
       "        vertical-align: top;\n",
       "    }\n",
       "\n",
       "    .dataframe thead th {\n",
       "        text-align: right;\n",
       "    }\n",
       "</style>\n",
       "<table border=\"1\" class=\"dataframe\">\n",
       "  <thead>\n",
       "    <tr style=\"text-align: right;\">\n",
       "      <th></th>\n",
       "      <th>close</th>\n",
       "      <th>open</th>\n",
       "      <th>high</th>\n",
       "      <th>low</th>\n",
       "    </tr>\n",
       "  </thead>\n",
       "  <tbody>\n",
       "    <tr>\n",
       "      <th>2010-01-02</th>\n",
       "      <td>10.14</td>\n",
       "      <td>10.98</td>\n",
       "      <td>10.98</td>\n",
       "      <td>10.14</td>\n",
       "    </tr>\n",
       "    <tr>\n",
       "      <th>2010-01-03</th>\n",
       "      <td>10.34</td>\n",
       "      <td>10.14</td>\n",
       "      <td>10.34</td>\n",
       "      <td>10.14</td>\n",
       "    </tr>\n",
       "    <tr>\n",
       "      <th>2010-01-04</th>\n",
       "      <td>10.14</td>\n",
       "      <td>10.34</td>\n",
       "      <td>10.34</td>\n",
       "      <td>10.14</td>\n",
       "    </tr>\n",
       "    <tr>\n",
       "      <th>2010-01-05</th>\n",
       "      <td>10.78</td>\n",
       "      <td>10.14</td>\n",
       "      <td>10.78</td>\n",
       "      <td>10.14</td>\n",
       "    </tr>\n",
       "    <tr>\n",
       "      <th>2010-01-06</th>\n",
       "      <td>10.61</td>\n",
       "      <td>10.78</td>\n",
       "      <td>10.78</td>\n",
       "      <td>10.61</td>\n",
       "    </tr>\n",
       "  </tbody>\n",
       "</table>\n",
       "</div>"
      ],
      "text/plain": [
       "            close   open   high    low\n",
       "2010-01-02  10.14  10.98  10.98  10.14\n",
       "2010-01-03  10.34  10.14  10.34  10.14\n",
       "2010-01-04  10.14  10.34  10.34  10.14\n",
       "2010-01-05  10.78  10.14  10.78  10.14\n",
       "2010-01-06  10.61  10.78  10.78  10.61"
      ]
     },
     "execution_count": 68,
     "metadata": {},
     "output_type": "execute_result"
    }
   ],
   "source": [
    "df_stock.head()"
   ]
  },
  {
   "cell_type": "code",
   "execution_count": 69,
   "id": "middle-booth",
   "metadata": {},
   "outputs": [
    {
     "data": {
      "text/html": [
       "<div>\n",
       "<style scoped>\n",
       "    .dataframe tbody tr th:only-of-type {\n",
       "        vertical-align: middle;\n",
       "    }\n",
       "\n",
       "    .dataframe tbody tr th {\n",
       "        vertical-align: top;\n",
       "    }\n",
       "\n",
       "    .dataframe thead th {\n",
       "        text-align: right;\n",
       "    }\n",
       "</style>\n",
       "<table border=\"1\" class=\"dataframe\">\n",
       "  <thead>\n",
       "    <tr style=\"text-align: right;\">\n",
       "      <th></th>\n",
       "      <th>close</th>\n",
       "      <th>open</th>\n",
       "      <th>high</th>\n",
       "      <th>low</th>\n",
       "    </tr>\n",
       "  </thead>\n",
       "  <tbody>\n",
       "    <tr>\n",
       "      <th>2012-09-22</th>\n",
       "      <td>9.89</td>\n",
       "      <td>9.36</td>\n",
       "      <td>9.89</td>\n",
       "      <td>9.36</td>\n",
       "    </tr>\n",
       "    <tr>\n",
       "      <th>2012-09-23</th>\n",
       "      <td>9.65</td>\n",
       "      <td>9.89</td>\n",
       "      <td>9.89</td>\n",
       "      <td>9.65</td>\n",
       "    </tr>\n",
       "    <tr>\n",
       "      <th>2012-09-24</th>\n",
       "      <td>10.43</td>\n",
       "      <td>9.65</td>\n",
       "      <td>10.43</td>\n",
       "      <td>9.65</td>\n",
       "    </tr>\n",
       "    <tr>\n",
       "      <th>2012-09-25</th>\n",
       "      <td>10.71</td>\n",
       "      <td>10.43</td>\n",
       "      <td>10.71</td>\n",
       "      <td>10.43</td>\n",
       "    </tr>\n",
       "    <tr>\n",
       "      <th>2012-09-26</th>\n",
       "      <td>10.52</td>\n",
       "      <td>10.71</td>\n",
       "      <td>10.71</td>\n",
       "      <td>10.52</td>\n",
       "    </tr>\n",
       "  </tbody>\n",
       "</table>\n",
       "</div>"
      ],
      "text/plain": [
       "            close   open   high    low\n",
       "2012-09-22   9.89   9.36   9.89   9.36\n",
       "2012-09-23   9.65   9.89   9.89   9.65\n",
       "2012-09-24  10.43   9.65  10.43   9.65\n",
       "2012-09-25  10.71  10.43  10.71  10.43\n",
       "2012-09-26  10.52  10.71  10.71  10.52"
      ]
     },
     "execution_count": 69,
     "metadata": {},
     "output_type": "execute_result"
    }
   ],
   "source": [
    "df_stock.tail()"
   ]
  },
  {
   "cell_type": "code",
   "execution_count": 70,
   "id": "great-nutrition",
   "metadata": {},
   "outputs": [
    {
     "data": {
      "text/plain": [
       "(999, 4)"
      ]
     },
     "execution_count": 70,
     "metadata": {},
     "output_type": "execute_result"
    }
   ],
   "source": [
    "df_stock.shape"
   ]
  },
  {
   "cell_type": "code",
   "execution_count": 71,
   "id": "dependent-gnome",
   "metadata": {},
   "outputs": [
    {
     "data": {
      "text/plain": [
       "Index(['close', 'open', 'high', 'low'], dtype='object')"
      ]
     },
     "execution_count": 71,
     "metadata": {},
     "output_type": "execute_result"
    }
   ],
   "source": [
    "df_stock.columns"
   ]
  },
  {
   "cell_type": "code",
   "execution_count": 72,
   "id": "needed-mistake",
   "metadata": {},
   "outputs": [
    {
     "data": {
      "text/plain": [
       "DatetimeIndex(['2010-01-02', '2010-01-03', '2010-01-04', '2010-01-05',\n",
       "               '2010-01-06', '2010-01-07', '2010-01-08', '2010-01-09',\n",
       "               '2010-01-10', '2010-01-11',\n",
       "               ...\n",
       "               '2012-09-17', '2012-09-18', '2012-09-19', '2012-09-20',\n",
       "               '2012-09-21', '2012-09-22', '2012-09-23', '2012-09-24',\n",
       "               '2012-09-25', '2012-09-26'],\n",
       "              dtype='datetime64[ns]', length=999, freq='D')"
      ]
     },
     "execution_count": 72,
     "metadata": {},
     "output_type": "execute_result"
    }
   ],
   "source": [
    "df_stock.index"
   ]
  },
  {
   "cell_type": "code",
   "execution_count": 73,
   "id": "disturbed-trout",
   "metadata": {},
   "outputs": [
    {
     "data": {
      "text/html": [
       "<div>\n",
       "<style scoped>\n",
       "    .dataframe tbody tr th:only-of-type {\n",
       "        vertical-align: middle;\n",
       "    }\n",
       "\n",
       "    .dataframe tbody tr th {\n",
       "        vertical-align: top;\n",
       "    }\n",
       "\n",
       "    .dataframe thead th {\n",
       "        text-align: right;\n",
       "    }\n",
       "</style>\n",
       "<table border=\"1\" class=\"dataframe\">\n",
       "  <thead>\n",
       "    <tr style=\"text-align: right;\">\n",
       "      <th></th>\n",
       "      <th>close</th>\n",
       "      <th>open</th>\n",
       "      <th>high</th>\n",
       "      <th>low</th>\n",
       "    </tr>\n",
       "  </thead>\n",
       "  <tbody>\n",
       "    <tr>\n",
       "      <th>count</th>\n",
       "      <td>999.000000</td>\n",
       "      <td>999.000000</td>\n",
       "      <td>999.000000</td>\n",
       "      <td>999.000000</td>\n",
       "    </tr>\n",
       "    <tr>\n",
       "      <th>mean</th>\n",
       "      <td>9.962593</td>\n",
       "      <td>9.963053</td>\n",
       "      <td>10.511441</td>\n",
       "      <td>9.414204</td>\n",
       "    </tr>\n",
       "    <tr>\n",
       "      <th>std</th>\n",
       "      <td>0.981108</td>\n",
       "      <td>0.981477</td>\n",
       "      <td>0.803471</td>\n",
       "      <td>0.823247</td>\n",
       "    </tr>\n",
       "    <tr>\n",
       "      <th>min</th>\n",
       "      <td>6.910000</td>\n",
       "      <td>6.910000</td>\n",
       "      <td>8.140000</td>\n",
       "      <td>6.910000</td>\n",
       "    </tr>\n",
       "    <tr>\n",
       "      <th>25%</th>\n",
       "      <td>9.290000</td>\n",
       "      <td>9.290000</td>\n",
       "      <td>9.950000</td>\n",
       "      <td>8.870000</td>\n",
       "    </tr>\n",
       "    <tr>\n",
       "      <th>50%</th>\n",
       "      <td>9.990000</td>\n",
       "      <td>9.990000</td>\n",
       "      <td>10.470000</td>\n",
       "      <td>9.410000</td>\n",
       "    </tr>\n",
       "    <tr>\n",
       "      <th>75%</th>\n",
       "      <td>10.600000</td>\n",
       "      <td>10.600000</td>\n",
       "      <td>11.010000</td>\n",
       "      <td>10.010000</td>\n",
       "    </tr>\n",
       "    <tr>\n",
       "      <th>max</th>\n",
       "      <td>13.060000</td>\n",
       "      <td>13.060000</td>\n",
       "      <td>13.060000</td>\n",
       "      <td>12.110000</td>\n",
       "    </tr>\n",
       "  </tbody>\n",
       "</table>\n",
       "</div>"
      ],
      "text/plain": [
       "            close        open        high         low\n",
       "count  999.000000  999.000000  999.000000  999.000000\n",
       "mean     9.962593    9.963053   10.511441    9.414204\n",
       "std      0.981108    0.981477    0.803471    0.823247\n",
       "min      6.910000    6.910000    8.140000    6.910000\n",
       "25%      9.290000    9.290000    9.950000    8.870000\n",
       "50%      9.990000    9.990000   10.470000    9.410000\n",
       "75%     10.600000   10.600000   11.010000   10.010000\n",
       "max     13.060000   13.060000   13.060000   12.110000"
      ]
     },
     "execution_count": 73,
     "metadata": {},
     "output_type": "execute_result"
    }
   ],
   "source": [
    "df_stock.describe()"
   ]
  },
  {
   "cell_type": "code",
   "execution_count": 74,
   "id": "psychological-yukon",
   "metadata": {},
   "outputs": [
    {
     "name": "stdout",
     "output_type": "stream",
     "text": [
      "<class 'pandas.core.frame.DataFrame'>\n",
      "DatetimeIndex: 999 entries, 2010-01-02 to 2012-09-26\n",
      "Freq: D\n",
      "Data columns (total 4 columns):\n",
      " #   Column  Non-Null Count  Dtype  \n",
      "---  ------  --------------  -----  \n",
      " 0   close   999 non-null    float64\n",
      " 1   open    999 non-null    float64\n",
      " 2   high    999 non-null    float64\n",
      " 3   low     999 non-null    float64\n",
      "dtypes: float64(4)\n",
      "memory usage: 39.0 KB\n"
     ]
    }
   ],
   "source": [
    "df_stock.info()"
   ]
  },
  {
   "cell_type": "markdown",
   "id": "serial-might",
   "metadata": {},
   "source": [
    "### 4.5.3 DataFrame的可视化"
   ]
  },
  {
   "cell_type": "code",
   "execution_count": 75,
   "id": "grateful-jewelry",
   "metadata": {},
   "outputs": [],
   "source": [
    "import matplotlib.pyplot as plt"
   ]
  },
  {
   "cell_type": "markdown",
   "id": "gorgeous-polls",
   "metadata": {},
   "source": [
    "#### 示例4.57"
   ]
  },
  {
   "cell_type": "code",
   "execution_count": 76,
   "id": "regulation-armenia",
   "metadata": {},
   "outputs": [
    {
     "data": {
      "image/png": "[encoded data removed]",
      "text/plain": [
       "<Figure size 576x432 with 1 Axes>"
      ]
     },
     "metadata": {
      "needs_background": "light"
     },
     "output_type": "display_data"
    }
   ],
   "source": [
    "df_visual = df_stock.loc['2010-01-01':'2012-01-01', ['high', 'low']].plot(linewidth=1, figsize=(8, 6))\n",
    "df_visual.set_xlabel('Time')\n",
    "df_visual.set_ylabel('High and Low price')\n",
    "df_visual.set_title('From 2010-01-01 to 2012-01-01')\n",
    "df_visual.legend()\n",
    "plt.show()"
   ]
  },
  {
   "cell_type": "markdown",
   "id": "neural-skiing",
   "metadata": {},
   "source": [
    "### 4.5.4 DataFrame缺失值处理"
   ]
  },
  {
   "cell_type": "markdown",
   "id": "twenty-jersey",
   "metadata": {},
   "source": [
    "#### 1. 定位缺失值"
   ]
  },
  {
   "cell_type": "markdown",
   "id": "threaded-seafood",
   "metadata": {},
   "source": [
    "#### 示例 4.58"
   ]
  },
  {
   "cell_type": "code",
   "execution_count": 77,
   "id": "formed-deviation",
   "metadata": {},
   "outputs": [
    {
     "name": "stdout",
     "output_type": "stream",
     "text": [
      "            close   open   high    low\n",
      "2010-01-02  False  False  False  False\n",
      "2010-01-03  False  False  False  False\n",
      "2010-01-04  False  False  False  False\n",
      "2010-01-05  False  False  False  False\n",
      "2010-01-06  False  False  False  False\n"
     ]
    }
   ],
   "source": [
    "print(df_stock.isnull().head())"
   ]
  },
  {
   "cell_type": "code",
   "execution_count": 78,
   "id": "yellow-collapse",
   "metadata": {},
   "outputs": [
    {
     "name": "stdout",
     "output_type": "stream",
     "text": [
      "            close  open  high   low\n",
      "2010-01-02   True  True  True  True\n",
      "2010-01-03   True  True  True  True\n",
      "2010-01-04   True  True  True  True\n",
      "2010-01-05   True  True  True  True\n",
      "2010-01-06   True  True  True  True\n"
     ]
    }
   ],
   "source": [
    "print(df_stock.notnull().head())"
   ]
  },
  {
   "cell_type": "markdown",
   "id": "prostate-graphic",
   "metadata": {},
   "source": [
    "#### 示例 4.59"
   ]
  },
  {
   "cell_type": "code",
   "execution_count": 79,
   "id": "technical-barbados",
   "metadata": {},
   "outputs": [
    {
     "name": "stdout",
     "output_type": "stream",
     "text": [
      "Empty DataFrame\n",
      "Columns: [close, open, high, low]\n",
      "Index: []\n"
     ]
    }
   ],
   "source": [
    "print(df_stock[df_stock.isnull().T.any().T])"
   ]
  },
  {
   "cell_type": "markdown",
   "id": "verified-reliance",
   "metadata": {},
   "source": [
    "#### 2. 填充缺失值"
   ]
  },
  {
   "cell_type": "markdown",
   "id": "widespread-consumption",
   "metadata": {},
   "source": [
    "#### 示例 4.60"
   ]
  },
  {
   "cell_type": "code",
   "execution_count": 80,
   "id": "entitled-compiler",
   "metadata": {},
   "outputs": [
    {
     "name": "stdout",
     "output_type": "stream",
     "text": [
      "            close   open   high    low\n",
      "2010-01-02  10.14  10.98  10.98  10.14\n",
      "2010-01-03  10.34  10.14  10.34  10.14\n",
      "2010-01-04  10.14  10.34  10.34  10.14\n",
      "2010-01-05  10.78  10.14  10.78  10.14\n",
      "2010-01-06  10.61  10.78  10.78  10.61\n"
     ]
    }
   ],
   "source": [
    "df_fillna = df_stock.fillna(method='bfill', axis=0)\n",
    "print(df_fillna.head())"
   ]
  },
  {
   "cell_type": "markdown",
   "id": "cross-romantic",
   "metadata": {},
   "source": [
    "#### 示例 4.61"
   ]
  },
  {
   "cell_type": "code",
   "execution_count": 81,
   "id": "parliamentary-design",
   "metadata": {},
   "outputs": [
    {
     "name": "stdout",
     "output_type": "stream",
     "text": [
      "Empty DataFrame\n",
      "Columns: [close, open, high, low]\n",
      "Index: []\n"
     ]
    }
   ],
   "source": [
    "df_stock.dropna(axis=0, how='any', inplace=True)\n",
    "print(df_stock[df_stock.isnull().T.any().T])"
   ]
  },
  {
   "cell_type": "markdown",
   "id": "durable-mauritius",
   "metadata": {},
   "source": [
    "### 4.5.5 DataFrame精度的转换"
   ]
  },
  {
   "cell_type": "markdown",
   "id": "broadband-portuguese",
   "metadata": {},
   "source": [
    "#### 示例 4.62"
   ]
  },
  {
   "cell_type": "code",
   "execution_count": 82,
   "id": "obvious-tackle",
   "metadata": {},
   "outputs": [
    {
     "name": "stdout",
     "output_type": "stream",
     "text": [
      "<class 'pandas.core.frame.DataFrame'>\n",
      "DatetimeIndex: 999 entries, 2010-01-02 to 2012-09-26\n",
      "Freq: D\n",
      "Data columns (total 4 columns):\n",
      " #   Column  Non-Null Count  Dtype  \n",
      "---  ------  --------------  -----  \n",
      " 0   close   999 non-null    float64\n",
      " 1   open    999 non-null    float64\n",
      " 2   high    999 non-null    float64\n",
      " 3   low     999 non-null    float64\n",
      "dtypes: float64(4)\n",
      "memory usage: 39.0 KB\n",
      "None\n"
     ]
    }
   ],
   "source": [
    "df_stock = df_stock.round(2)\n",
    "print(df_stock.info())"
   ]
  },
  {
   "cell_type": "markdown",
   "id": "complimentary-crazy",
   "metadata": {},
   "source": [
    "#### 1. concat()合并DataFrame"
   ]
  },
  {
   "cell_type": "markdown",
   "id": "fixed-venice",
   "metadata": {},
   "source": [
    "#### 示例 4.63"
   ]
  },
  {
   "cell_type": "code",
   "execution_count": 83,
   "id": "fixed-attitude",
   "metadata": {},
   "outputs": [
    {
     "name": "stdout",
     "output_type": "stream",
     "text": [
      "            close   open   high    low  volume\n",
      "2010-01-02  10.14  10.98  10.98  10.14  136141\n",
      "2010-01-03  10.34  10.14  10.34  10.14  138795\n",
      "2010-01-04  10.14  10.34  10.34  10.14  140840\n",
      "2010-01-05  10.78  10.14  10.78  10.14  145148\n",
      "2010-01-06  10.61  10.78  10.78  10.61  157212\n"
     ]
    }
   ],
   "source": [
    "df_concat = pd.concat([df_stock, df_volume], axis=1, join='inner')\n",
    "print(df_concat.head())"
   ]
  },
  {
   "cell_type": "markdown",
   "id": "varying-green",
   "metadata": {},
   "source": [
    "#### 示例 4.64"
   ]
  },
  {
   "cell_type": "code",
   "execution_count": 84,
   "id": "decreased-surname",
   "metadata": {},
   "outputs": [
    {
     "name": "stdout",
     "output_type": "stream",
     "text": [
      "            close   open   high    low  volume\n",
      "2010-01-02  10.14  10.98  10.98  10.14  136141\n",
      "2010-01-03  10.34  10.14  10.34  10.14  138795\n",
      "2010-01-04  10.14  10.34  10.34  10.14  140840\n",
      "2010-01-05  10.78  10.14  10.78  10.14  145148\n",
      "2010-01-06  10.61  10.78  10.78  10.61  157212\n"
     ]
    }
   ],
   "source": [
    "df_merge = pd.merge(df_stock, df_volume, left_index=True, right_index=True, how='inner')\n",
    "print(df_merge.head())"
   ]
  },
  {
   "cell_type": "markdown",
   "id": "chinese-andrew",
   "metadata": {},
   "source": [
    "#### 示例 4.65"
   ]
  },
  {
   "cell_type": "code",
   "execution_count": 85,
   "id": "greatest-fitting",
   "metadata": {},
   "outputs": [
    {
     "name": "stdout",
     "output_type": "stream",
     "text": [
      "            close   open   high    low  volume\n",
      "2010-01-02  10.14  10.98  10.98  10.14  136141\n",
      "2010-01-03  10.34  10.14  10.34  10.14  138795\n",
      "2010-01-04  10.14  10.34  10.34  10.14  140840\n",
      "2010-01-05  10.78  10.14  10.78  10.14  145148\n",
      "2010-01-06  10.61  10.78  10.78  10.61  157212\n"
     ]
    }
   ],
   "source": [
    "df_join = df_stock.join(df_volume, how='inner')\n",
    "print(df_join.head())"
   ]
  },
  {
   "cell_type": "markdown",
   "id": "numerous-score",
   "metadata": {},
   "source": [
    "## 4.6 DataFrame的高效遍历"
   ]
  },
  {
   "cell_type": "markdown",
   "id": "viral-quilt",
   "metadata": {},
   "source": [
    "### 4.6.1 循环遍历的几种方式"
   ]
  },
  {
   "cell_type": "markdown",
   "id": "relative-master",
   "metadata": {},
   "source": [
    "#### 1. for-in循环\n"
   ]
  },
  {
   "cell_type": "markdown",
   "id": "chubby-british",
   "metadata": {},
   "source": [
    "#### 2. iterrows()生成器"
   ]
  },
  {
   "cell_type": "markdown",
   "id": "whole-connection",
   "metadata": {},
   "source": [
    "#### 3. DataFrame.apply()"
   ]
  },
  {
   "cell_type": "markdown",
   "id": "protective-saint",
   "metadata": {},
   "source": [
    "#### 4. 矢量化方式"
   ]
  },
  {
   "cell_type": "code",
   "execution_count": 90,
   "id": "straight-planner",
   "metadata": {},
   "outputs": [
    {
     "name": "stdout",
     "output_type": "stream",
     "text": [
      "            close   open   high    low  volume  pct_change\n",
      "2010-01-02  10.14  10.98  10.98  10.14  136141    0.076503\n",
      "2010-01-03  10.34  10.14  10.34  10.14  138795    0.019724\n",
      "2010-01-04  10.14  10.34  10.34  10.14  140840    0.019342\n",
      "2010-01-05  10.78  10.14  10.78  10.14  145148    0.063116\n",
      "2010-01-06  10.61  10.78  10.78  10.61  157212    0.015770\n",
      "...           ...    ...    ...    ...     ...         ...\n",
      "2012-09-22   9.89   9.36   9.89   9.36  194359    0.056624\n",
      "2012-09-23   9.65   9.89   9.89   9.65  165259    0.024267\n",
      "2012-09-24  10.43   9.65  10.43   9.65  142490    0.080829\n",
      "2012-09-25  10.71  10.43  10.71  10.43  130246    0.026846\n",
      "2012-09-26  10.52  10.71  10.71  10.52  104310    0.017740\n",
      "\n",
      "[999 rows x 6 columns]\n"
     ]
    }
   ],
   "source": [
    "df_concat['pct_change'] = (df_concat['high'].values - df_concat['low'].values) / df_concat['open'].values\n",
    "print(df_concat)"
   ]
  },
  {
   "cell_type": "markdown",
   "id": "arbitrary-entertainment",
   "metadata": {},
   "source": [
    "### 4.6.2 循环遍历的性能对比"
   ]
  },
  {
   "cell_type": "markdown",
   "id": "cosmetic-sarah",
   "metadata": {},
   "source": [
    "## 4.7 DataFrame的存储和加载"
   ]
  },
  {
   "cell_type": "markdown",
   "id": "hispanic-malta",
   "metadata": {},
   "source": [
    "### 4.7.1 将DataFrame存储至CSV "
   ]
  },
  {
   "cell_type": "markdown",
   "id": "exotic-coffee",
   "metadata": {},
   "source": [
    "#### 示例 4.66\n"
   ]
  },
  {
   "cell_type": "code",
   "execution_count": 91,
   "id": "characteristic-compensation",
   "metadata": {},
   "outputs": [],
   "source": [
    "df_concat.to_csv('table-stock.csv', columns=df_concat.columns, index=True)"
   ]
  },
  {
   "cell_type": "markdown",
   "id": "formed-foster",
   "metadata": {},
   "source": [
    "### 4.7.2 将CSV加载为DataFrame"
   ]
  },
  {
   "cell_type": "code",
   "execution_count": 94,
   "id": "sharp-grove",
   "metadata": {},
   "outputs": [
    {
     "name": "stdout",
     "output_type": "stream",
     "text": [
      "加载csv数据：\n",
      "             close   open   high    low  volume  pct_change\n",
      "2010-01-02  10.14  10.98  10.98  10.14  136141    0.076503\n",
      "2010-01-03  10.34  10.14  10.34  10.14  138795    0.019724\n",
      "2010-01-04  10.14  10.34  10.34  10.14  140840    0.019342\n",
      "2010-01-05  10.78  10.14  10.78  10.14  145148    0.063116\n",
      "2010-01-06  10.61  10.78  10.78  10.61  157212    0.015770\n"
     ]
    }
   ],
   "source": [
    "df_csvload = pd.read_csv('table-stock.csv', parse_dates=True, index_col=0, encoding='gb2312')\n",
    "print(f'加载csv数据：\\n {df_csvload.head()}')"
   ]
  },
  {
   "cell_type": "code",
   "execution_count": null,
   "id": "outstanding-laptop",
   "metadata": {},
   "outputs": [],
   "source": []
  }
 ],
 "metadata": {
  "kernelspec": {
   "display_name": "Python 3",
   "language": "python",
   "name": "python3"
  },
  "language_info": {
   "codemirror_mode": {
    "name": "ipython",
    "version": 3
   },
   "file_extension": ".py",
   "mimetype": "text/x-python",
   "name": "python",
   "nbconvert_exporter": "python",
   "pygments_lexer": "ipython3",
   "version": "3.8.2"
  }
 },
 "nbformat": 4,
 "nbformat_minor": 5
}
